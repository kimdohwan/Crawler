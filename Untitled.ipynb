{
 "cells": [
  {
   "cell_type": "code",
   "execution_count": 58,
   "metadata": {},
   "outputs": [
    {
     "name": "stdout",
     "output_type": "stream",
     "text": [
      "file_path가 존재함\n",
      "open file_path\n",
      "파일이 이미 존재, 읽기 완료\n",
      "220\n",
      "<class 'set'>\n",
      "187\n",
      "<class 'list'>\n",
      "[]\n",
      "/webtoon/list.nhn?titleId=183559&weekday=mon\n",
      "SplitResult(scheme='', netloc='', path='/webtoon/list.nhn', query='titleId=183559&weekday=mon', fragment='')\n",
      "titleId=183559&weekday=mon\n",
      "{'titleId': ['183559'], 'weekday': ['mon']}\n",
      "['mon']\n",
      "<class 'builtin_function_or_method'>\n",
      "['183559']\n"
     ]
    }
   ],
   "source": [
    "from bs4 import BeautifulSoup\n",
    "import requests\n",
    "import os\n",
    "from urllib import parse\n",
    "\n",
    "url_webtoon_list = 'http://comic.naver.com/webtoon/weekday.nhn'\n",
    "file_path = 'data/webtoon_list.html'\n",
    "\n",
    "if os.path.exists(file_path):\n",
    "    print('file_path가 존재함')\n",
    "    f = open(file_path, 'rt')\n",
    "    print('open file_path')\n",
    "    html = f.read()\n",
    "    f.close()\n",
    "    print('파일이 이미 존재, 읽기 완료')\n",
    "else:\n",
    "    response = requests.get(url_webtoon_list)\n",
    "    print('url 요청 완료')\n",
    "    html = response.text\n",
    "    print('url html파일을 문자열로 받아옴')\n",
    "    f = open(file_path, 'wt')\n",
    "    html = f.write(html)\n",
    "    f.close()\n",
    "    print('파일이 존재하지 않아 새 파일 생성 완료')\n",
    "\n",
    "soup = BeautifulSoup(html, 'lxml')\n",
    "\n",
    "a_list = soup.select('a.title')\n",
    "# print(a_list)\n",
    "\n",
    "a_text_list = [a.string for a in a_list]\n",
    "print(len(a_text_list))\n",
    "\n",
    "a_text_list_set = set(a_text_list)\n",
    "print(type(a_text_list_set))\n",
    "print(len(a_text_list_set))\n",
    "\n",
    "a_text_list = list(a_text_list_set)\n",
    "print(type(a_text_list))\n",
    "\n",
    "search_result_list = []\n",
    "# choice = input('검색할 제목을 입력해')\n",
    "# for a_text in a_text_list:\n",
    "#     if choice in a_text:\n",
    "#         search_result_list.append(a_text)\n",
    "# search_result_list = [a_text for a_text in a_text_list if choice in a_text]\n",
    "print(search_result_list)\n",
    "\n",
    "a_dict_list = []\n",
    "href = a.get('href')\n",
    "print(href)\n",
    "par_ulrspl = parse.urlsplit(href)\n",
    "print(qq)\n",
    "que = qq.query\n",
    "print(que)\n",
    "par_par_qs = parse.parse_qs(que)\n",
    "print(par_par_qs)\n",
    "print(par_par_qs['weekday'])\n",
    "print(type(par_par_qs.values))\n",
    "title_id =par_par_qs.get('titleId')\n",
    "print(title_id)\n",
    "\n",
    "# print(a_list)\n",
    "# for a in a_list:\n",
    "#     href = a.get('href')\n",
    "#     query_dict = parse.parse_qs(href).query\n",
    "#     print(query_dict)\n",
    "#     webtoon_id = query_dict.get('titleId')\n",
    "#     print(webtoon_id)"
   ]
  },
  {
   "cell_type": "code",
   "execution_count": null,
   "metadata": {},
   "outputs": [],
   "source": []
  },
  {
   "cell_type": "code",
   "execution_count": null,
   "metadata": {},
   "outputs": [],
   "source": []
  },
  {
   "cell_type": "code",
   "execution_count": null,
   "metadata": {},
   "outputs": [],
   "source": []
  }
 ],
 "metadata": {
  "kernelspec": {
   "display_name": "Python 3",
   "language": "python",
   "name": "python3"
  },
  "language_info": {
   "codemirror_mode": {
    "name": "ipython",
    "version": 3
   },
   "file_extension": ".py",
   "mimetype": "text/x-python",
   "name": "python",
   "nbconvert_exporter": "python",
   "pygments_lexer": "ipython3",
   "version": "3.6.5"
  }
 },
 "nbformat": 4,
 "nbformat_minor": 2
}
